{
 "metadata": {
  "language_info": {
   "codemirror_mode": {
    "name": "ipython",
    "version": 3
   },
   "file_extension": ".py",
   "mimetype": "text/x-python",
   "name": "python",
   "nbconvert_exporter": "python",
   "pygments_lexer": "ipython3",
   "version": "3.8.3-final"
  },
  "orig_nbformat": 2,
  "kernelspec": {
   "name": "python3",
   "display_name": "Python 3"
  }
 },
 "nbformat": 4,
 "nbformat_minor": 2,
 "cells": [
  {
   "cell_type": "code",
   "execution_count": 1,
   "metadata": {},
   "outputs": [
    {
     "output_type": "stream",
     "name": "stdout",
     "text": [
      "oof\n"
     ]
    }
   ],
   "source": [
    "print('oof')"
   ]
  },
  {
   "cell_type": "code",
   "execution_count": 2,
   "metadata": {},
   "outputs": [],
   "source": [
    "import numpy as np"
   ]
  },
  {
   "cell_type": "code",
   "execution_count": 3,
   "metadata": {},
   "outputs": [],
   "source": [
    "from PIL import Image, ImageOps"
   ]
  },
  {
   "cell_type": "code",
   "execution_count": 4,
   "metadata": {},
   "outputs": [],
   "source": [
    "import queue"
   ]
  },
  {
   "cell_type": "code",
   "execution_count": 5,
   "metadata": {},
   "outputs": [],
   "source": [
    "im = Image.open('maze(2).png').convert('L')   #send your maze image as the parameter"
   ]
  },
  {
   "cell_type": "code",
   "execution_count": 6,
   "metadata": {},
   "outputs": [
    {
     "output_type": "execute_result",
     "data": {
      "text/plain": [
       "array([[  0,   0,   0,   0,   0, 255,   0,   0,   0,   0,   0,   0,   0],\n",
       "       [  0, 255, 255, 255, 255, 255, 255, 255,   0, 255, 255, 255,   0],\n",
       "       [  0, 255,   0,   0,   0,   0,   0, 255,   0, 255,   0, 255,   0],\n",
       "       [  0, 255, 255, 255, 255, 255,   0, 255,   0, 255,   0, 255,   0],\n",
       "       [  0,   0,   0,   0,   0, 255,   0, 255,   0,   0,   0, 255,   0],\n",
       "       [  0, 255, 255, 255,   0, 255,   0, 255, 255, 255,   0, 255,   0],\n",
       "       [  0, 255,   0, 255,   0, 255,   0,   0,   0, 255,   0, 255,   0],\n",
       "       [  0, 255,   0, 255,   0, 255, 255, 255,   0, 255,   0, 255,   0],\n",
       "       [  0, 255,   0,   0,   0,   0,   0,   0,   0, 255,   0, 255,   0],\n",
       "       [  0, 255, 255, 255,   0, 255, 255, 255,   0, 255,   0, 255,   0],\n",
       "       [  0, 255,   0, 255,   0, 255,   0, 255,   0, 255,   0, 255,   0],\n",
       "       [  0, 255,   0, 255, 255, 255,   0, 255, 255, 255, 255, 255,   0],\n",
       "       [  0,   0,   0,   0,   0,   0,   0, 255,   0,   0,   0,   0,   0]],\n",
       "      dtype=uint8)"
      ]
     },
     "metadata": {},
     "execution_count": 6
    }
   ],
   "source": [
    "na = np.array(im)\n",
    "na"
   ]
  },
  {
   "cell_type": "code",
   "execution_count": 7,
   "metadata": {
    "tags": []
   },
   "outputs": [],
   "source": [
    "na2 = [[\"\" for i in range(len(na))] for j in range(len(na[0]))]\n",
    "for i in range(len(na)):\n",
    "    for j in range(len(na[0])):\n",
    "        if na[i][j] == 0:\n",
    "            na2[i][j] = \"#\"\n",
    "        else:\n",
    "            na2[i][j] = \" \""
   ]
  },
  {
   "cell_type": "code",
   "execution_count": 8,
   "metadata": {},
   "outputs": [
    {
     "output_type": "execute_result",
     "data": {
      "text/plain": [
       "[['#', '#', '#', '#', '#', ' ', '#', '#', '#', '#', '#', '#', '#'],\n",
       " ['#', ' ', ' ', ' ', ' ', ' ', ' ', ' ', '#', ' ', ' ', ' ', '#'],\n",
       " ['#', ' ', '#', '#', '#', '#', '#', ' ', '#', ' ', '#', ' ', '#'],\n",
       " ['#', ' ', ' ', ' ', ' ', ' ', '#', ' ', '#', ' ', '#', ' ', '#'],\n",
       " ['#', '#', '#', '#', '#', ' ', '#', ' ', '#', '#', '#', ' ', '#'],\n",
       " ['#', ' ', ' ', ' ', '#', ' ', '#', ' ', ' ', ' ', '#', ' ', '#'],\n",
       " ['#', ' ', '#', ' ', '#', ' ', '#', '#', '#', ' ', '#', ' ', '#'],\n",
       " ['#', ' ', '#', ' ', '#', ' ', ' ', ' ', '#', ' ', '#', ' ', '#'],\n",
       " ['#', ' ', '#', '#', '#', '#', '#', '#', '#', ' ', '#', ' ', '#'],\n",
       " ['#', ' ', ' ', ' ', '#', ' ', ' ', ' ', '#', ' ', '#', ' ', '#'],\n",
       " ['#', ' ', '#', ' ', '#', ' ', '#', ' ', '#', ' ', '#', ' ', '#'],\n",
       " ['#', ' ', '#', ' ', ' ', ' ', '#', ' ', ' ', ' ', ' ', ' ', '#'],\n",
       " ['#', '#', '#', '#', '#', '#', '#', ' ', '#', '#', '#', '#', '#']]"
      ]
     },
     "metadata": {},
     "execution_count": 8
    }
   ],
   "source": [
    "na2\n",
    "# to convert the maze into a normal python list coz that's what I want to work with\n"
   ]
  },
  {
   "cell_type": "code",
   "execution_count": 9,
   "metadata": {
    "tags": []
   },
   "outputs": [
    {
     "output_type": "stream",
     "name": "stdout",
     "text": [
      "# # # # #   # # # # # # # \n#               #       # \n#   # # # # #   #   #   # \n#           #   #   #   # \n# # # # #   #   # # #   # \n#       #   #       #   # \n#   #   #   # # #   #   # \n#   #   #       #   #   # \n#   # # # # # # #   #   # \n#       #       #   #   # \n#   #   #   #   #   #   # \n#   #       #           # \n# # # # # # #   # # # # # \n"
     ]
    }
   ],
   "source": [
    "for i in range(len(na2)):\n",
    "    for j in range(len(na2[0])):\n",
    "        print(na2[i][j], end=\" \")\n",
    "    print()"
   ]
  },
  {
   "cell_type": "code",
   "execution_count": 10,
   "metadata": {
    "tags": []
   },
   "outputs": [
    {
     "output_type": "stream",
     "name": "stdout",
     "text": [
      "beginning reached\nend reached\n"
     ]
    }
   ],
   "source": [
    "flag_beginning = False\n",
    "flag_end = False\n",
    "for i in range(0,(len(na))):\n",
    "    for j in range(0,(len(na2[0]))):\n",
    "        if(i==0 or i == len(na2)-1):\n",
    "            if(na2[i][j] == \" \"):\n",
    "                if(flag_beginning == False):\n",
    "                    beg_pos = [i,j]\n",
    "                    na2[beg_pos[0]][beg_pos[1]] = \"O\"\n",
    "                    flag_beginning = True\n",
    "                    print(\"beginning reached\")\n",
    "                else:\n",
    "                    flag_end = True\n",
    "                    end_pos = [i,j]\n",
    "                    na2[end_pos[0]][end_pos[1]] = \"X\"\n",
    "                    print(\"end reached\")\n",
    "\n",
    "        \n",
    "             \n",
    "                \n",
    "\n",
    "#this code block is required to be run if your maze image has a one pixel wide border around it.\n",
    "#I generated the maze I used using this website: https://hereandabove.com/maze/mazeorig.form.html, and it comes in a gif format with a one pixel wide white border all around it"
   ]
  },
  {
   "cell_type": "code",
   "execution_count": 11,
   "metadata": {},
   "outputs": [
    {
     "output_type": "execute_result",
     "data": {
      "text/plain": [
       "[12, 7]"
      ]
     },
     "metadata": {},
     "execution_count": 11
    }
   ],
   "source": [
    "end_pos"
   ]
  },
  {
   "cell_type": "code",
   "execution_count": 12,
   "metadata": {
    "tags": []
   },
   "outputs": [],
   "source": [
    "def printMaze(maze, path=\"\"):\n",
    "    for x, pos in enumerate(maze[0]):\n",
    "        if pos == \"O\":\n",
    "            start = x\n",
    "\n",
    "    i = start\n",
    "    j = 0\n",
    "    pos = set()\n",
    "    for move in path:\n",
    "        if move == \"L\":\n",
    "            i -= 1\n",
    "\n",
    "        elif move == \"R\":\n",
    "            i += 1\n",
    "\n",
    "        elif move == \"U\":\n",
    "            j -= 1\n",
    "\n",
    "        elif move == \"D\":\n",
    "            j += 1\n",
    "        pos.add((j, i))\n",
    "    \n",
    "    for j, row in enumerate(maze):\n",
    "        for i, col in enumerate(row):\n",
    "            if (j, i) in pos:\n",
    "                print(\"+\", end=\"\")\n",
    "            else:\n",
    "                print(col, end=\"\")\n",
    "        print()\n"
   ]
  },
  {
   "cell_type": "code",
   "execution_count": 13,
   "metadata": {},
   "outputs": [
    {
     "output_type": "execute_result",
     "data": {
      "text/plain": [
       "[0, 5]"
      ]
     },
     "metadata": {},
     "execution_count": 13
    }
   ],
   "source": [
    "beg_pos"
   ]
  },
  {
   "cell_type": "code",
   "execution_count": 14,
   "metadata": {},
   "outputs": [],
   "source": [
    "def valid(maze, moves):\n",
    "    print(\"Inititating validity check\")\n",
    "    for x, pos in enumerate(maze[0]):\n",
    "        if pos == \"O\":\n",
    "            start = x\n",
    "    i = start\n",
    "    j = 0\n",
    "    for move in moves:\n",
    "        if move == \"L\":\n",
    "            i -= 1\n",
    "\n",
    "        elif move == \"R\":\n",
    "            i += 1\n",
    "\n",
    "        elif move == \"U\":\n",
    "            j -= 1\n",
    "\n",
    "        elif move == \"D\":\n",
    "            j += 1\n",
    "\n",
    "        if not(0 <= i < len(maze[0]) and 0 <= j < len(maze)):\n",
    "            return False\n",
    "        elif (maze[j][i] == \"#\"):\n",
    "            return False\n",
    "\n",
    "    return True"
   ]
  },
  {
   "cell_type": "code",
   "execution_count": 15,
   "metadata": {},
   "outputs": [],
   "source": [
    "def findend(maze, moves):\n",
    "    for x, pos in enumerate(maze[0]):\n",
    "        if pos == \"O\":\n",
    "            start = x\n",
    "    i = start\n",
    "    j = 0\n",
    "    for move in moves:\n",
    "        if move == \"L\":\n",
    "            i -= 1\n",
    "\n",
    "        elif move == \"R\":\n",
    "            i += 1\n",
    "\n",
    "        elif move == \"U\":\n",
    "            j -= 1\n",
    "\n",
    "        elif move == \"D\":\n",
    "            j += 1\n",
    "\n",
    "    if maze[j][i] == \"X\":\n",
    "        print(\"Found: \" + moves)\n",
    "        printMaze(maze, moves)\n",
    "        return True\n",
    "\n",
    "    return False"
   ]
  },
  {
   "cell_type": "code",
   "execution_count": 16,
   "metadata": {},
   "outputs": [
    {
     "output_type": "stream",
     "name": "stdout",
     "text": [
      "0   0\n1   0\n2   0\n3   0\n4   0\n5   255\n6   0\n7   0\n8   0\n9   0\n10   0\n11   0\n12   0\n"
     ]
    }
   ],
   "source": [
    "for x, pos in enumerate(na[0]):\n",
    "    print(x,\" \",pos)"
   ]
  },
  {
   "cell_type": "code",
   "execution_count": 17,
   "metadata": {
    "tags": [
     "outputPrepend"
    ]
   },
   "outputs": [
    {
     "output_type": "stream",
     "name": "stdout",
     "text": [
      "RDDUUDULRLRLU\n",
      "Inititating validity check\n",
      "DUDRRDDUUDULRLRLD\n",
      "Inititating validity check\n",
      "DUDRRDDUUDULRLRDL\n",
      "Inititating validity check\n",
      "DUDRRDDUUDULRLRDR\n",
      "Inititating validity check\n",
      "DUDRRDDUUDULRLRDU\n",
      "Inititating validity check\n",
      "DUDRRDDUUDULRLRDD\n",
      "Inititating validity check\n",
      "DUDRRDDUUDULRDULL\n",
      "Inititating validity check\n",
      "DUDRRDDUUDULRDULR\n",
      "Inititating validity check\n",
      "DUDRRDDUUDULRDULU\n",
      "Inititating validity check\n",
      "DUDRRDDUUDULRDULD\n",
      "Inititating validity check\n",
      "DUDRRDDUUDULRDUDL\n",
      "Inititating validity check\n",
      "DUDRRDDUUDULRDUDR\n",
      "Inititating validity check\n",
      "DUDRRDDUUDULRDUDU\n",
      "Inititating validity check\n",
      "DUDRRDDUUDULRDUDD\n",
      "Inititating validity check\n",
      "DUDRRDDUUDULRDDUL\n",
      "Inititating validity check\n",
      "DUDRRDDUUDULRDDUR\n",
      "Inititating validity check\n",
      "DUDRRDDUUDULRDDUU\n",
      "Inititating validity check\n",
      "DUDRRDDUUDULRDDUD\n",
      "Inititating validity check\n",
      "DUDRRDDUUDULRDDDL\n",
      "Inititating validity check\n",
      "DUDRRDDUUDULRDDDR\n",
      "Inititating validity check\n",
      "DUDRRDDUUDULRDDDU\n",
      "Inititating validity check\n",
      "DUDRRDDUUDULRDDDD\n",
      "Inititating validity check\n",
      "DUDRRDDUUDUDULLLL\n",
      "Inititating validity check\n",
      "DUDRRDDUUDUDULLLR\n",
      "Inititating validity check\n",
      "DUDRRDDUUDUDULLLU\n",
      "Inititating validity check\n",
      "DUDRRDDUUDUDULLLD\n",
      "Inititating validity check\n",
      "DUDRRDDUUDUDULLRL\n",
      "Inititating validity check\n",
      "DUDRRDDUUDUDULLRR\n",
      "Inititating validity check\n",
      "DUDRRDDUUDUDULLRU\n",
      "Inititating validity check\n",
      "DUDRRDDUUDUDULLRD\n",
      "Inititating validity check\n",
      "DUDRRDDUUDUDULLUL\n",
      "Inititating validity check\n",
      "DUDRRDDUUDUDULLUR\n",
      "Inititating validity check\n",
      "DUDRRDDUUDUDULLUU\n",
      "Inititating validity check\n",
      "DUDRRDDUUDUDULLUD\n",
      "Inititating validity check\n",
      "DUDRRDDUUDUDULRLL\n",
      "Inititating validity check\n",
      "DUDRRDDUUDUDULRLR\n",
      "Inititating validity check\n",
      "DUDRRDDUUDUDULRLU\n",
      "Inititating validity check\n",
      "DUDRRDDUUDUDULRLD\n",
      "Inititating validity check\n",
      "DUDRRDDUUDUDULRDL\n",
      "Inititating validity check\n",
      "DUDRRDDUUDUDULRDR\n",
      "Inititating validity check\n",
      "DUDRRDDUUDUDULRDU\n",
      "Inititating validity check\n",
      "DUDRRDDUUDUDULRDD\n",
      "Inititating validity check\n",
      "DUDRRDDUUDUDUDULL\n",
      "Inititating validity check\n",
      "DUDRRDDUUDUDUDULR\n",
      "Inititating validity check\n",
      "DUDRRDDUUDUDUDULU\n",
      "Inititating validity check\n",
      "DUDRRDDUUDUDUDULD\n",
      "Inititating validity check\n",
      "DUDRRDDUUDUDUDUDL\n",
      "Inititating validity check\n",
      "DUDRRDDUUDUDUDUDR\n",
      "Inititating validity check\n",
      "DUDRRDDUUDUDUDUDU\n",
      "Inititating validity check\n",
      "DUDRRDDUUDUDUDUDD\n",
      "Inititating validity check\n",
      "DUDRRDDUUDUDUDDUL\n",
      "Inititating validity check\n",
      "DUDRRDDUUDUDUDDUR\n",
      "Inititating validity check\n",
      "DUDRRDDUUDUDUDDUU\n",
      "Inititating validity check\n",
      "DUDRRDDUUDUDUDDUD\n",
      "Inititating validity check\n",
      "DUDRRDDUUDUDUDDDL\n",
      "Inititating validity check\n",
      "DUDRRDDUUDUDUDDDR\n",
      "Inititating validity check\n",
      "DUDRRDDUUDUDUDDDU\n",
      "Inititating validity check\n",
      "DUDRRDDUUDUDUDDDD\n",
      "Inititating validity check\n",
      "DUDRRDDUUDUDDUULL\n",
      "Inititating validity check\n",
      "DUDRRDDUUDUDDUULR\n",
      "Inititating validity check\n",
      "DUDRRDDUUDUDDUULU\n",
      "Inititating validity check\n",
      "DUDRRDDUUDUDDUULD\n",
      "Inititating validity check\n",
      "DUDRRDDUUDUDDUUDL\n",
      "Inititating validity check\n",
      "DUDRRDDUUDUDDUUDR\n",
      "Inititating validity check\n",
      "DUDRRDDUUDUDDUUDU\n",
      "Inititating validity check\n",
      "DUDRRDDUUDUDDUUDD\n",
      "Inititating validity check\n",
      "DUDRRDDUUDUDDUDUL\n",
      "Inititating validity check\n",
      "DUDRRDDUUDUDDUDUR\n",
      "Inititating validity check\n",
      "DUDRRDDUUDUDDUDUU\n",
      "Inititating validity check\n",
      "DUDRRDDUUDUDDUDUD\n",
      "Inititating validity check\n",
      "DUDRRDDUUDUDDUDDL\n",
      "Inititating validity check\n",
      "DUDRRDDUUDUDDUDDR\n",
      "Inititating validity check\n",
      "DUDRRDDUUDUDDUDDU\n",
      "Inititating validity check\n",
      "DUDRRDDUUDUDDUDDD\n",
      "Inititating validity check\n",
      "DUDRRDDUUDUDDDUUL\n",
      "Inititating validity check\n",
      "DUDRRDDUUDUDDDUUR\n",
      "Inititating validity check\n",
      "DUDRRDDUUDUDDDUUU\n",
      "Inititating validity check\n",
      "DUDRRDDUUDUDDDUUD\n",
      "Inititating validity check\n",
      "DUDRRDDUUDUDDDUDL\n",
      "Inititating validity check\n",
      "DUDRRDDUUDUDDDUDR\n",
      "Inititating validity check\n",
      "DUDRRDDUUDUDDDUDU\n",
      "Inititating validity check\n",
      "DUDRRDDUUDUDDDUDD\n",
      "Inititating validity check\n",
      "DUDRRDDUUDUDDDDRL\n",
      "Inititating validity check\n",
      "DUDRRDDUUDUDDDDRR\n",
      "Inititating validity check\n",
      "DUDRRDDUUDUDDDDRU\n",
      "Inititating validity check\n",
      "DUDRRDDUUDUDDDDRD\n",
      "Inititating validity check\n",
      "DUDRRDDUUDUDDDDUL\n",
      "Inititating validity check\n",
      "DUDRRDDUUDUDDDDUR\n",
      "Inititating validity check\n",
      "DUDRRDDUUDUDDDDUU\n",
      "Inititating validity check"
     ]
    }
   ],
   "source": [
    "nums = queue.Queue()\n",
    "nums.put(\"\")\n",
    "add = \"\"\n",
    "\n",
    "while not findend(na2, add):\n",
    "    add = nums.get()\n",
    "    for j in ['L','R','U','D']:\n",
    "        put = add + j\n",
    "        print(put)\n",
    "        if valid(na2, put):\n",
    "            nums.put(put)"
   ]
  },
  {
   "cell_type": "code",
   "execution_count": null,
   "metadata": {},
   "outputs": [],
   "source": []
  }
 ]
}